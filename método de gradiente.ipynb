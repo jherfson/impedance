{
 "cells": [
  {
   "cell_type": "code",
   "execution_count": 1,
   "metadata": {},
   "outputs": [],
   "source": [
    "import matplotlib.pyplot as plt\n",
    "import numpy as np"
   ]
  },
  {
   "cell_type": "code",
   "execution_count": 16,
   "metadata": {},
   "outputs": [],
   "source": [
    "path = \"/home/jherfson/Dropbox/Research_Jherfson/Estabilidade termodinâmica e diagramas de fase teóricos/impedancia/python/result.txt\"\n",
    "frequency = np.loadtxt(path, delimiter=\" \", usecols=(0))\n",
    "z_real_txt = np.loadtxt(path, delimiter=\" \", usecols=(1))\n",
    "z_image_txt = np.loadtxt(path, delimiter=\" \", usecols=(2))\n"
   ]
  },
  {
   "cell_type": "code",
   "execution_count": 17,
   "metadata": {},
   "outputs": [],
   "source": [
    "alpha = 0.01\n",
    "c = 0.1\n",
    "r = 0.1"
   ]
  },
  {
   "cell_type": "code",
   "execution_count": 18,
   "metadata": {},
   "outputs": [],
   "source": [
    "def angular_frequency(frequency):\n",
    "    return 2 * np.pi * frequency"
   ]
  },
  {
   "cell_type": "code",
   "execution_count": 83,
   "metadata": {},
   "outputs": [],
   "source": [
    "def y_hat(c, r):\n",
    "    z_real = r * (1+ (angular_frequency(frequency) * c * r)**2)**-1 \n",
    "    z_image = - (angular_frequency(frequency) * r**2 * c * (1 + (angular_frequency(frequency) * r * c)**2)**-1)\n",
    "    #plt.plot(z_real,z_image, \"bo\")\n",
    "    #plt.savefig(\"figura.png\", dpi=1200)\n",
    "    z = z_real + z_image\n",
    "\n",
    "    return z"
   ]
  },
  {
   "cell_type": "code",
   "execution_count": 84,
   "metadata": {},
   "outputs": [
    {
     "data": {
      "text/plain": [
       "array([ 9.33482904e-02,  9.24904580e-02,  9.15172901e-02,  9.04125690e-02,\n",
       "        8.91577109e-02,  8.77314816e-02,  8.61100540e-02,  8.42664073e-02,\n",
       "        8.21705221e-02,  7.97894968e-02,  7.70875113e-02,  7.40272663e-02,\n",
       "        7.05706622e-02,  6.66815172e-02,  6.23286577e-02,  5.74899385e-02,\n",
       "        5.21582815e-02,  4.63479862e-02,  4.01018554e-02,  3.34968341e-02,\n",
       "        2.66479557e-02,  1.97069484e-02,  1.28554810e-02,  6.29159797e-03,\n",
       "        2.10089419e-04, -5.21817012e-03, -9.86362060e-03, -1.36516638e-02,\n",
       "       -1.65648569e-02, -1.86379003e-02, -1.99464333e-02, -2.05921304e-02,\n",
       "       -2.06889940e-02, -2.03514646e-02, -1.96862243e-02, -1.87871785e-02,\n",
       "       -1.77333639e-02, -1.65887656e-02, -1.54034577e-02, -1.42152721e-02,\n",
       "       -1.30518573e-02, -1.19325395e-02, -1.08701296e-02, -9.87243750e-03,\n",
       "       -8.94340970e-03, -8.08416814e-03, -7.29397274e-03, -6.57057930e-03,\n",
       "       -5.91087678e-03, -5.31120923e-03, -4.76753860e-03, -4.27579138e-03,\n",
       "       -3.83184544e-03, -3.43172348e-03, -3.07162079e-03, -2.74791857e-03,\n",
       "       -2.45724687e-03, -2.19647198e-03, -1.96270883e-03, -1.75329965e-03,\n",
       "       -1.56582251e-03, -1.39806616e-03, -1.24802636e-03, -1.11389216e-03,\n",
       "       -9.94017373e-04, -8.86912539e-04, -7.91252140e-04, -7.05829642e-04,\n",
       "       -6.29566496e-04, -5.61496828e-04, -5.00746039e-04, -4.46539021e-04,\n",
       "       -3.98174715e-04, -3.55029183e-04, -3.16544398e-04, -2.82218846e-04,\n",
       "       -2.51605854e-04, -2.24305725e-04, -1.99962000e-04, -1.78255313e-04,\n",
       "       -1.58901238e-04, -1.41645307e-04, -1.26260780e-04, -1.12545781e-04,\n",
       "       -1.00319239e-04, -8.94191989e-05, -7.97028405e-05, -7.10413613e-05,\n",
       "       -6.33204629e-05, -5.64384565e-05, -5.03038319e-05, -4.48357508e-05,\n",
       "       -3.99619426e-05, -3.56176213e-05, -3.17455134e-05, -2.82941998e-05,\n",
       "       -2.52179681e-05, -2.24761712e-05, -2.00324108e-05, -1.78542876e-05,\n",
       "       -1.59129609e-05, -1.41826674e-05, -1.26404820e-05, -1.12660179e-05,\n",
       "       -1.00410097e-05, -8.94913611e-06, -7.97601550e-06, -7.10868834e-06,\n",
       "       -6.33566192e-06, -5.64671744e-06, -5.03266417e-06, -4.48538681e-06,\n",
       "       -3.99763330e-06, -3.56290514e-06, -3.17545924e-06, -2.83014112e-06,\n",
       "       -2.52236961e-06, -2.24807210e-06, -2.00360247e-06, -1.78571582e-06,\n",
       "       -1.59152410e-06])"
      ]
     },
     "execution_count": 84,
     "metadata": {},
     "output_type": "execute_result"
    }
   ],
   "source": [
    "y_hat(c, r)"
   ]
  },
  {
   "cell_type": "code",
   "execution_count": 69,
   "metadata": {},
   "outputs": [],
   "source": [
    "def plot_line(z_real_txt, z_image_txt, c, r):\n",
    "    x_values = [i for i in range(int(min(z_real_txt)) - 1, int(max(z_real_txt)) + 2)]\n",
    "    y_values_z_real = [y_hat(c, r)[0] for x in x_values]\n",
    "    y_values_z_image = [y_hat(c, r)[1] for x in x_values]\n",
    "    #plt.plot(x_values,y_values_z_real, 'r')\n",
    "    plt.plot(x_values,y_values_z_image, 'r')\n",
    "    plt.plot(z_real_txt, z_image_txt, 'bo')"
   ]
  },
  {
   "cell_type": "code",
   "execution_count": 87,
   "metadata": {},
   "outputs": [],
   "source": [
    "def plot_line(z_real_txt, z_image_txt, c, r):\n",
    "    x_values = [i for i in range(int(min(z_real_txt)) - 1, int(max(z_real_txt)) + 2)]\n",
    "    y_values_z_real = [y_hat(c, r) for x in x_values]\n",
    "    #y_values_z_image = [y_hat(c, r)[1] for x in x_values]\n",
    "    #plt.plot(x_values,y_values_z_real, 'r')\n",
    "    plt.plot(x_values,y_values_z_real, 'r')\n",
    "    plt.plot(z_real_txt, z_image_txt, 'bo')"
   ]
  },
  {
   "cell_type": "code",
   "execution_count": 88,
   "metadata": {},
   "outputs": [
    {
     "data": {
      "image/png": "[encoded data removed]",
      "text/plain": [
       "<Figure size 432x288 with 1 Axes>"
      ]
     },
     "metadata": {
      "needs_background": "light"
     },
     "output_type": "display_data"
    }
   ],
   "source": [
    "plot_line(z_real_txt, z_image_txt, c, r)"
   ]
  },
  {
   "cell_type": "code",
   "execution_count": 81,
   "metadata": {},
   "outputs": [],
   "source": [
    "def MSE(z_real_txt, z_image_txt, c, r):\n",
    "    custo_r = 0\n",
    "    custo_i = 0\n",
    "    m_r = float(len(z_real_txt))\n",
    "    m_i = float(len(z_image_txt))\n",
    "    for i in range(0, len(z_real_txt)):\n",
    "        custo_r += (y_hat(c, r)[0] - z_image_txt[i])**2\n",
    "        custo_i += (y_hat(c, r)[1] - z_image_txt[i])**2\n",
    "    print(\"custo_r: \",custo_r)\n",
    "    print(\"custo_i: \",custo_i)\n",
    "\n",
    "        \n",
    "    return custo_r/m_r, custo_i/m_i"
   ]
  },
  {
   "cell_type": "code",
   "execution_count": 106,
   "metadata": {},
   "outputs": [],
   "source": [
    "def MSE(z_real_txt, z_image_txt, c, r):\n",
    "    custo = 0\n",
    "    m = float(len(z_real_txt))\n",
    "    for i in range(0, len(z_real_txt)):\n",
    "        custo += (y_hat(c, r) - z_image_txt[i])**2     \n",
    "    print(\"custo: \",custo)\n",
    "\n",
    "        \n",
    "    return custo/m"
   ]
  },
  {
   "cell_type": "code",
   "execution_count": 107,
   "metadata": {},
   "outputs": [
    {
     "name": "stdout",
     "output_type": "stream",
     "text": [
      "custo:  [4.33479491e+08 4.33479258e+08 4.33478992e+08 4.33478692e+08\n",
      " 4.33478350e+08 4.33477961e+08 4.33477520e+08 4.33477017e+08\n",
      " 4.33476446e+08 4.33475798e+08 4.33475062e+08 4.33474228e+08\n",
      " 4.33473287e+08 4.33472227e+08 4.33471041e+08 4.33469723e+08\n",
      " 4.33468271e+08 4.33466688e+08 4.33464987e+08 4.33463188e+08\n",
      " 4.33461322e+08 4.33459432e+08 4.33457565e+08 4.33455777e+08\n",
      " 4.33454121e+08 4.33452642e+08 4.33451377e+08 4.33450345e+08\n",
      " 4.33449552e+08 4.33448987e+08 4.33448631e+08 4.33448455e+08\n",
      " 4.33448428e+08 4.33448520e+08 4.33448702e+08 4.33448946e+08\n",
      " 4.33449233e+08 4.33449545e+08 4.33449868e+08 4.33450192e+08\n",
      " 4.33450509e+08 4.33450813e+08 4.33451103e+08 4.33451375e+08\n",
      " 4.33451628e+08 4.33451862e+08 4.33452077e+08 4.33452274e+08\n",
      " 4.33452454e+08 4.33452617e+08 4.33452765e+08 4.33452899e+08\n",
      " 4.33453020e+08 4.33453129e+08 4.33453227e+08 4.33453315e+08\n",
      " 4.33453394e+08 4.33453465e+08 4.33453529e+08 4.33453586e+08\n",
      " 4.33453637e+08 4.33453683e+08 4.33453724e+08 4.33453760e+08\n",
      " 4.33453793e+08 4.33453822e+08 4.33453848e+08 4.33453871e+08\n",
      " 4.33453892e+08 4.33453911e+08 4.33453927e+08 4.33453942e+08\n",
      " 4.33453955e+08 4.33453967e+08 4.33453977e+08 4.33453987e+08\n",
      " 4.33453995e+08 4.33454003e+08 4.33454009e+08 4.33454015e+08\n",
      " 4.33454020e+08 4.33454025e+08 4.33454029e+08 4.33454033e+08\n",
      " 4.33454036e+08 4.33454039e+08 4.33454042e+08 4.33454044e+08\n",
      " 4.33454046e+08 4.33454048e+08 4.33454050e+08 4.33454051e+08\n",
      " 4.33454053e+08 4.33454054e+08 4.33454055e+08 4.33454056e+08\n",
      " 4.33454057e+08 4.33454058e+08 4.33454058e+08 4.33454059e+08\n",
      " 4.33454059e+08 4.33454060e+08 4.33454060e+08 4.33454061e+08\n",
      " 4.33454061e+08 4.33454061e+08 4.33454062e+08 4.33454062e+08\n",
      " 4.33454062e+08 4.33454062e+08 4.33454062e+08 4.33454062e+08\n",
      " 4.33454063e+08 4.33454063e+08 4.33454063e+08 4.33454063e+08\n",
      " 4.33454063e+08 4.33454063e+08 4.33454063e+08 4.33454063e+08\n",
      " 4.33454063e+08]\n"
     ]
    },
    {
     "data": {
      "text/plain": [
       "array([3582475.13421487, 3582473.20298949, 3582471.01211271,\n",
       "       3582468.52507458, 3582465.70003894, 3582462.48920282,\n",
       "       3582458.83892622, 3582454.6883801 , 3582449.96998528,\n",
       "       3582444.60967504, 3582438.52681323, 3582431.63743505,\n",
       "       3582423.85577577, 3582415.10039013, 3582405.30110899,\n",
       "       3582394.40809137, 3582382.40541683, 3582369.32529224,\n",
       "       3582355.26409074, 3582340.3950453 , 3582324.97712716,\n",
       "       3582309.35190796, 3582293.9283507 , 3582279.15227182,\n",
       "       3582265.462152  , 3582253.24262735, 3582242.78532659,\n",
       "       3582234.25815382, 3582227.70035463, 3582223.03380087,\n",
       "       3582220.08821341, 3582218.63471132, 3582218.41666575,\n",
       "       3582219.17646412, 3582220.67395943, 3582222.69776645,\n",
       "       3582225.06996942, 3582227.64653459, 3582230.31474253,\n",
       "       3582232.98943122, 3582235.60836189, 3582238.12802961,\n",
       "       3582240.51959554, 3582242.76547906, 3582244.8567955 ,\n",
       "       3582246.79101905, 3582248.56981529, 3582250.1982358 ,\n",
       "       3582251.68328351, 3582253.03318805, 3582254.25703919,\n",
       "       3582255.36400663, 3582256.36336946, 3582257.26408087,\n",
       "       3582258.07470549, 3582258.80338947, 3582259.45771885,\n",
       "       3582260.04474785, 3582260.57097095, 3582261.04237106,\n",
       "       3582261.46440012, 3582261.84203585, 3582262.17978995,\n",
       "       3582262.48173904, 3582262.75158885, 3582262.99269229,\n",
       "       3582263.20803319, 3582263.4003276 , 3582263.57200342,\n",
       "       3582263.72523493, 3582263.86199093, 3582263.98401626,\n",
       "       3582264.09288908, 3582264.19001393, 3582264.27664698,\n",
       "       3582264.35391719, 3582264.42283006, 3582264.48428535,\n",
       "       3582264.53908549, 3582264.58794939, 3582264.63151733,\n",
       "       3582264.67036214, 3582264.70499424, 3582264.73586806,\n",
       "       3582264.76339122, 3582264.78792829, 3582264.80980078,\n",
       "       3582264.82929862, 3582264.84667913, 3582264.86217122,\n",
       "       3582264.87598086, 3582264.88829006, 3582264.89926148,\n",
       "       3582264.90904098, 3582264.91775748, 3582264.92552673,\n",
       "       3582264.93245163, 3582264.93862369, 3582264.94412484,\n",
       "       3582264.94902801, 3582264.95339813, 3582264.95729319,\n",
       "       3582264.96076481, 3582264.96385886, 3582264.96661648,\n",
       "       3582264.96907439, 3582264.97126498, 3582264.97321743,\n",
       "       3582264.97495758, 3582264.97650847, 3582264.97789076,\n",
       "       3582264.97912274, 3582264.98022072, 3582264.98119933,\n",
       "       3582264.98207151, 3582264.98284886, 3582264.98354168,\n",
       "       3582264.98415915, 3582264.98470948, 3582264.98519996,\n",
       "       3582264.98563711])"
      ]
     },
     "execution_count": 107,
     "metadata": {},
     "output_type": "execute_result"
    }
   ],
   "source": [
    "MSE(z_real_txt, z_image_txt, c, r)"
   ]
  },
  {
   "cell_type": "code",
   "execution_count": 47,
   "metadata": {},
   "outputs": [],
   "source": [
    "def gradient_descent_step(c, r, z_real_txt , z_image_txt, alpha):\n",
    "    \n",
    "    erro_c = 0\n",
    "    erro_r = 0\n",
    "    m_r = float(len(z_real_txt))\n",
    "    m_i = float(len(z_image_txt))\n",
    "    \n",
    "    for i in range(0,len(z_real_txt)):\n",
    "        # Capacitor\n",
    "        W=1\n",
    "        numerador_c = (-2 * r**3 * angular_frequency(frequency[i])**2 * c)\n",
    "        denominador = (1 + (angular_frequency(frequency[i]) * r * c)**2)**2 \n",
    "        sc_1 = 2 * W * (y_hat(c, r)[0] - z_real_txt[i]) * numerador_c/denominador\n",
    "        sc_2 = 2 * W * (y_hat(c, r)[1] - z_image_txt[i]) * (-angular_frequency(frequency[i]) * r**2*((-angular_frequency(frequency[i])* r * c)**2 + 1))/denominador\n",
    "        \n",
    "        # Resitor\n",
    "        numerador_r = (-(angular_frequency(frequency[i]) * c * r)**2 + 1)\n",
    "        sr_1 = 2 * W * (y_hat(c, r)[0] - z_real_txt[i]) * numerador_r/denominador\n",
    "        sr_2 = 2 * W * (y_hat(c, r)[1] - z_image_txt[i]) * (-2 * angular_frequency(frequency[i]) * r * c)/denominador \n",
    "\n",
    "\n",
    "        erro_c += sc_1 + sc_2\n",
    "        erro_r += sr_1 + sc_2\n",
    "        \n",
    "    new_c = c - alpha * (1/m_r) * erro_c\n",
    "    new_r = r - alpha * (1/m) * erro_r\n",
    "\n",
    "    return new_c, new_r"
   ]
  },
  {
   "cell_type": "code",
   "execution_count": 108,
   "metadata": {},
   "outputs": [],
   "source": [
    "def gradient_descent_step(c, r, z_real_txt , z_image_txt, alpha):\n",
    "    \n",
    "    erro_c = 0\n",
    "    erro_r = 0\n",
    "    m = float(len(z_real_txt))\n",
    "\n",
    "    \n",
    "    for i in range(0,len(z_real_txt)):\n",
    "        # Capacitor\n",
    "        W=1\n",
    "        numerador_c = (-2 * r**3 * angular_frequency(frequency[i])**2 * c)\n",
    "        denominador = (1 + (angular_frequency(frequency[i]) * r * c)**2)**2 \n",
    "        sc_1 = 2 * W * (y_hat(c, r) - z_real_txt[i]) * numerador_c/denominador\n",
    "        sc_2 = 2 * W * (y_hat(c, r) - z_image_txt[i]) * (-angular_frequency(frequency[i]) * r**2*((-angular_frequency(frequency[i])* r * c)**2 + 1))/denominador\n",
    "        \n",
    "        # Resitor\n",
    "        numerador_r = (-(angular_frequency(frequency[i]) * c * r)**2 + 1)\n",
    "        sr_1 = 2 * W * (y_hat(c, r) - z_real_txt[i]) * numerador_r/denominador\n",
    "        sr_2 = 2 * W * (y_hat(c, r) - z_image_txt[i]) * (-2 * angular_frequency(frequency[i]) * r * c)/denominador \n",
    "\n",
    "\n",
    "        erro_c += sc_1 + sc_2\n",
    "        erro_r += sr_1 + sc_2\n",
    "        \n",
    "    new_c = c - alpha * (1/m) * erro_c\n",
    "    new_r = r - alpha * (1/m) * erro_r\n",
    "\n",
    "    return new_c, new_r"
   ]
  },
  {
   "cell_type": "code",
   "execution_count": 109,
   "metadata": {},
   "outputs": [],
   "source": [
    "epoch = 70"
   ]
  },
  {
   "cell_type": "code",
   "execution_count": 110,
   "metadata": {},
   "outputs": [],
   "source": [
    "def gradient_descent(c, r, z_real_txt, z_image_txt, alpha, epoch):\n",
    "    custo = np.zeros(epoch)\n",
    "    for i in range(epoch):\n",
    "        c , r = gradient_descent_step(c, r, z_real_txt, z_image_txt, alpha)\n",
    "        custo[i] = MSE(z_real_txt, z_image_txt, c, r)\n",
    "        \n",
    "    return c, r, custo"
   ]
  },
  {
   "cell_type": "code",
   "execution_count": 111,
   "metadata": {},
   "outputs": [
    {
     "name": "stdout",
     "output_type": "stream",
     "text": [
      "custo:  [4.33457260e+08 4.33456912e+08 4.33456603e+08 4.33456326e+08\n",
      " 4.33456080e+08 4.33455861e+08 4.33455665e+08 4.33455491e+08\n",
      " 4.33455336e+08 4.33455198e+08 4.33455074e+08 4.33454964e+08\n",
      " 4.33454866e+08 4.33454779e+08 4.33454701e+08 4.33454632e+08\n",
      " 4.33454570e+08 4.33454515e+08 4.33454466e+08 4.33454422e+08\n",
      " 4.33454383e+08 4.33454348e+08 4.33454317e+08 4.33454290e+08\n",
      " 4.33454265e+08 4.33454243e+08 4.33454224e+08 4.33454206e+08\n",
      " 4.33454191e+08 4.33454177e+08 4.33454165e+08 4.33454154e+08\n",
      " 4.33454144e+08 4.33454135e+08 4.33454127e+08 4.33454121e+08\n",
      " 4.33454114e+08 4.33454109e+08 4.33454104e+08 4.33454100e+08\n",
      " 4.33454096e+08 4.33454092e+08 4.33454089e+08 4.33454086e+08\n",
      " 4.33454084e+08 4.33454082e+08 4.33454080e+08 4.33454078e+08\n",
      " 4.33454076e+08 4.33454075e+08 4.33454074e+08 4.33454073e+08\n",
      " 4.33454072e+08 4.33454071e+08 4.33454070e+08 4.33454069e+08\n",
      " 4.33454069e+08 4.33454068e+08 4.33454068e+08 4.33454067e+08\n",
      " 4.33454067e+08 4.33454067e+08 4.33454066e+08 4.33454066e+08\n",
      " 4.33454066e+08 4.33454065e+08 4.33454065e+08 4.33454065e+08\n",
      " 4.33454065e+08 4.33454065e+08 4.33454065e+08 4.33454065e+08\n",
      " 4.33454064e+08 4.33454064e+08 4.33454064e+08 4.33454064e+08\n",
      " 4.33454064e+08 4.33454064e+08 4.33454064e+08 4.33454064e+08\n",
      " 4.33454064e+08 4.33454064e+08 4.33454064e+08 4.33454064e+08\n",
      " 4.33454064e+08 4.33454064e+08 4.33454064e+08 4.33454064e+08\n",
      " 4.33454064e+08 4.33454064e+08 4.33454064e+08 4.33454064e+08\n",
      " 4.33454064e+08 4.33454064e+08 4.33454064e+08 4.33454064e+08\n",
      " 4.33454064e+08 4.33454064e+08 4.33454064e+08 4.33454064e+08\n",
      " 4.33454064e+08 4.33454064e+08 4.33454064e+08 4.33454064e+08\n",
      " 4.33454064e+08 4.33454064e+08 4.33454064e+08 4.33454064e+08\n",
      " 4.33454064e+08 4.33454064e+08 4.33454064e+08 4.33454064e+08\n",
      " 4.33454064e+08 4.33454064e+08 4.33454064e+08 4.33454064e+08\n",
      " 4.33454064e+08 4.33454064e+08 4.33454064e+08 4.33454064e+08\n",
      " 4.33454064e+08]\n"
     ]
    },
    {
     "ename": "ValueError",
     "evalue": "setting an array element with a sequence.",
     "output_type": "error",
     "traceback": [
      "\u001b[0;31m---------------------------------------------------------------------------\u001b[0m",
      "\u001b[0;31mTypeError\u001b[0m                                 Traceback (most recent call last)",
      "\u001b[0;31mTypeError\u001b[0m: only size-1 arrays can be converted to Python scalars",
      "\nThe above exception was the direct cause of the following exception:\n",
      "\u001b[0;31mValueError\u001b[0m                                Traceback (most recent call last)",
      "\u001b[0;32m<ipython-input-111-08b4ef77bce4>\u001b[0m in \u001b[0;36m<module>\u001b[0;34m\u001b[0m\n\u001b[0;32m----> 1\u001b[0;31m \u001b[0mc\u001b[0m\u001b[0;34m,\u001b[0m \u001b[0mr\u001b[0m\u001b[0;34m,\u001b[0m \u001b[0mcusto\u001b[0m \u001b[0;34m=\u001b[0m \u001b[0mgradient_descent\u001b[0m\u001b[0;34m(\u001b[0m\u001b[0mc\u001b[0m\u001b[0;34m,\u001b[0m \u001b[0mr\u001b[0m\u001b[0;34m,\u001b[0m \u001b[0mz_real_txt\u001b[0m\u001b[0;34m,\u001b[0m \u001b[0mz_image_txt\u001b[0m\u001b[0;34m,\u001b[0m \u001b[0malpha\u001b[0m\u001b[0;34m,\u001b[0m \u001b[0mepoch\u001b[0m\u001b[0;34m)\u001b[0m\u001b[0;34m\u001b[0m\u001b[0;34m\u001b[0m\u001b[0m\n\u001b[0m",
      "\u001b[0;32m<ipython-input-110-0c16543889bf>\u001b[0m in \u001b[0;36mgradient_descent\u001b[0;34m(c, r, z_real_txt, z_image_txt, alpha, epoch)\u001b[0m\n\u001b[1;32m      3\u001b[0m     \u001b[0;32mfor\u001b[0m \u001b[0mi\u001b[0m \u001b[0;32min\u001b[0m \u001b[0mrange\u001b[0m\u001b[0;34m(\u001b[0m\u001b[0mepoch\u001b[0m\u001b[0;34m)\u001b[0m\u001b[0;34m:\u001b[0m\u001b[0;34m\u001b[0m\u001b[0;34m\u001b[0m\u001b[0m\n\u001b[1;32m      4\u001b[0m         \u001b[0mc\u001b[0m \u001b[0;34m,\u001b[0m \u001b[0mr\u001b[0m \u001b[0;34m=\u001b[0m \u001b[0mgradient_descent_step\u001b[0m\u001b[0;34m(\u001b[0m\u001b[0mc\u001b[0m\u001b[0;34m,\u001b[0m \u001b[0mr\u001b[0m\u001b[0;34m,\u001b[0m \u001b[0mz_real_txt\u001b[0m\u001b[0;34m,\u001b[0m \u001b[0mz_image_txt\u001b[0m\u001b[0;34m,\u001b[0m \u001b[0malpha\u001b[0m\u001b[0;34m)\u001b[0m\u001b[0;34m\u001b[0m\u001b[0;34m\u001b[0m\u001b[0m\n\u001b[0;32m----> 5\u001b[0;31m         \u001b[0mcusto\u001b[0m\u001b[0;34m[\u001b[0m\u001b[0mi\u001b[0m\u001b[0;34m]\u001b[0m \u001b[0;34m=\u001b[0m \u001b[0mMSE\u001b[0m\u001b[0;34m(\u001b[0m\u001b[0mz_real_txt\u001b[0m\u001b[0;34m,\u001b[0m \u001b[0mz_image_txt\u001b[0m\u001b[0;34m,\u001b[0m \u001b[0mc\u001b[0m\u001b[0;34m,\u001b[0m \u001b[0mr\u001b[0m\u001b[0;34m)\u001b[0m\u001b[0;34m\u001b[0m\u001b[0;34m\u001b[0m\u001b[0m\n\u001b[0m\u001b[1;32m      6\u001b[0m \u001b[0;34m\u001b[0m\u001b[0m\n\u001b[1;32m      7\u001b[0m     \u001b[0;32mreturn\u001b[0m \u001b[0mc\u001b[0m\u001b[0;34m,\u001b[0m \u001b[0mr\u001b[0m\u001b[0;34m,\u001b[0m \u001b[0mcusto\u001b[0m\u001b[0;34m\u001b[0m\u001b[0;34m\u001b[0m\u001b[0m\n",
      "\u001b[0;31mValueError\u001b[0m: setting an array element with a sequence."
     ]
    }
   ],
   "source": [
    "c, r, custo = gradient_descent(c, r, z_real_txt, z_image_txt, alpha, epoch)"
   ]
  },
  {
   "cell_type": "code",
   "execution_count": 97,
   "metadata": {},
   "outputs": [
    {
     "name": "stdout",
     "output_type": "stream",
     "text": [
      "c=0.1, r=0.1\n"
     ]
    }
   ],
   "source": [
    "print(\"c={}, r={}\".format(c,r))"
   ]
  },
  {
   "cell_type": "code",
   "execution_count": null,
   "metadata": {},
   "outputs": [],
   "source": []
  }
 ],
 "metadata": {
  "kernelspec": {
   "display_name": "Python 3",
   "language": "python",
   "name": "python3"
  },
  "language_info": {
   "codemirror_mode": {
    "name": "ipython",
    "version": 3
   },
   "file_extension": ".py",
   "mimetype": "text/x-python",
   "name": "python",
   "nbconvert_exporter": "python",
   "pygments_lexer": "ipython3",
   "version": "3.7.4"
  }
 },
 "nbformat": 4,
 "nbformat_minor": 4
}
